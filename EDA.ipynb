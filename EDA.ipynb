{
 "cells": [
  {
   "cell_type": "code",
   "execution_count": 1,
   "metadata": {},
   "outputs": [],
   "source": [
    "# import all necessary data science modules\n",
    "import numpy as np\n",
    "import pandas as pd\n",
    "import matplotlib.pyplot as plt\n",
    "import seaborn as sns\n",
    "import os\n",
    "import warnings\n",
    "warnings.filterwarnings('ignore')\n",
    "%matplotlib inline\n"
   ]
  },
  {
   "cell_type": "code",
   "execution_count": 2,
   "metadata": {},
   "outputs": [],
   "source": [
    "df_train = pd.read_csv('data/train_GIVE.csv')\n",
    "df_test = pd.read_csv('data/test_GIVE.csv')"
   ]
  },
  {
   "attachments": {},
   "cell_type": "markdown",
   "metadata": {},
   "source": [
    "# Some findings that might help!\n",
    "\n",
    "### Data Separation\n",
    "- Numerical:\n",
    "    - Age\n",
    "    - Flight Distance\n",
    "    - Inflight wifi service\n",
    "    - Departure Delay in Minutes\n",
    "    - Arrival Delay in Minutes\n",
    "\n",
    "Everything else is categorical! (make dummies!!!)\n",
    "\n",
    "\n",
    "### Missing Data\n",
    "- \"Arrival Delay in Minutes\" is the only category missing data\n",
    "\n",
    "### Model selection\n",
    "- Don't go overboard with advanced ML techniques (i.e., don't try to create a neural network for such a categorical based problem)"
   ]
  },
  {
   "cell_type": "markdown",
   "metadata": {},
   "source": [
    "# I've provided some starter code for you (train_test_split) as well as an imputer and scaler. Feel free to reach out with any questions!"
   ]
  },
  {
   "cell_type": "code",
   "execution_count": 3,
   "metadata": {},
   "outputs": [],
   "source": [
    "# train test split\n",
    "from sklearn.model_selection import train_test_split\n",
    "\n",
    "# split df into train and test, 0.3 for test\n",
    "_, _, _, _ = train_test_split(df_train, df_train['satisfaction_satisfied'], test_size=0.3, random_state=42)"
   ]
  },
  {
   "cell_type": "code",
   "execution_count": 33,
   "metadata": {},
   "outputs": [],
   "source": [
    "# import standard scaler\n",
    "from sklearn.preprocessing import StandardScaler\n",
    "from sklearn.impute import SimpleImputer"
   ]
  },
  {
   "cell_type": "code",
   "execution_count": 57,
   "metadata": {},
   "outputs": [],
   "source": [
    "# this function takes in a model and X_test to predict a model\n",
    "# and print out a formated version of its predictions\n",
    "# the format should be a string with predictions submitted in line\n",
    "# for this dataset, predictions are either \"0\" or \"1\"\n",
    "# so, an example might be \"1,0,0,1,0,0,1\"\n",
    "def format_predictions(model, test_data):\n",
    "    predictions = model.predict(test_data)\n",
    "    predictions = [str(int(x)) for x in predictions]\n",
    "    print(\",\".join(predictions))"
   ]
  },
  {
   "cell_type": "code",
   "execution_count": 64,
   "metadata": {},
   "outputs": [
    {
     "name": "stdout",
     "output_type": "stream",
     "text": [
      "0,1,0,0,1,0,0,0,1,1,0,0,0,1,0,0,0,1,1,0,0,0,1,1,1,0,0,1,0,1,1,0,1,0,1,0,1,0,1,1,1,0,1,1,0,1\n",
      "0,1,0,0,1,0,0,0,1,1,0,1,0,1,0,0,0,1,1,0,0,0,1,1,1,0,0,1,0,1,1,0,1,0,1,0,1,0,1,1,1,0,1,1,0,1\n"
     ]
    }
   ],
   "source": []
  }
 ],
 "metadata": {
  "kernelspec": {
   "display_name": "cs109b2",
   "language": "python",
   "name": "python3"
  },
  "language_info": {
   "codemirror_mode": {
    "name": "ipython",
    "version": 3
   },
   "file_extension": ".py",
   "mimetype": "text/x-python",
   "name": "python",
   "nbconvert_exporter": "python",
   "pygments_lexer": "ipython3",
   "version": "3.11.0"
  },
  "orig_nbformat": 4
 },
 "nbformat": 4,
 "nbformat_minor": 2
}
